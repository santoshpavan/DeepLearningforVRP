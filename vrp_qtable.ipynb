{
  "nbformat": 4,
  "nbformat_minor": 0,
  "metadata": {
    "colab": {
      "name": "vrp_qtable.ipynb",
      "provenance": [],
      "collapsed_sections": []
    },
    "kernelspec": {
      "name": "python3",
      "display_name": "Python 3"
    }
  },
  "cells": [
    {
      "cell_type": "code",
      "metadata": {
        "id": "ddTn0Uw95lHv",
        "colab_type": "code",
        "outputId": "845073de-7c5a-488f-d6b5-ec50b4a772ad",
        "colab": {
          "base_uri": "https://localhost:8080/",
          "height": 104
        }
      },
      "source": [
        "!pip install tsplib95"
      ],
      "execution_count": 0,
      "outputs": [
        {
          "output_type": "stream",
          "text": [
            "Requirement already satisfied: tsplib95 in /usr/local/lib/python3.6/dist-packages (0.6.1)\n",
            "Requirement already satisfied: Click>=6.0 in /usr/local/lib/python3.6/dist-packages (from tsplib95) (7.1.1)\n",
            "Requirement already satisfied: networkx~=2.1 in /usr/local/lib/python3.6/dist-packages (from tsplib95) (2.4)\n",
            "Requirement already satisfied: decorator>=4.3.0 in /usr/local/lib/python3.6/dist-packages (from networkx~=2.1->tsplib95) (4.4.2)\n"
          ],
          "name": "stdout"
        }
      ]
    },
    {
      "cell_type": "code",
      "metadata": {
        "id": "V2OO95eb6SQJ",
        "colab_type": "code",
        "colab": {}
      },
      "source": [
        "from tqdm import tqdm\n",
        "import numpy as np\n",
        "from PIL import Image\n",
        "import cv2\n",
        "import matplotlib.pyplot as plt\n",
        "from matplotlib import style\n",
        "import tsplib95\n",
        "import networkx as nx\n",
        "import pickle\n",
        "import time\n",
        "import math\n",
        "import re\n",
        "import random\n",
        "import copy"
      ],
      "execution_count": 0,
      "outputs": []
    },
    {
      "cell_type": "code",
      "metadata": {
        "id": "0wxpWBz06UQM",
        "colab_type": "code",
        "outputId": "c07f3fe2-ef4f-42ad-a4f0-3314e870a3aa",
        "colab": {
          "base_uri": "https://localhost:8080/",
          "height": 54
        }
      },
      "source": [
        "from google.colab import drive\n",
        "drive.mount('/content/drive')"
      ],
      "execution_count": 0,
      "outputs": [
        {
          "output_type": "stream",
          "text": [
            "Drive already mounted at /content/drive; to attempt to forcibly remount, call drive.mount(\"/content/drive\", force_remount=True).\n"
          ],
          "name": "stdout"
        }
      ]
    },
    {
      "cell_type": "markdown",
      "metadata": {
        "id": "BNBluv8h64df",
        "colab_type": "text"
      },
      "source": [
        "Create an Environment\n",
        "1. Extract the tsplib95 file problem.\n",
        "2. Create a networkx graph out of the problem. //will be plotting this\n",
        "3. Initialize the necessary data.\n",
        "4. Extract the necessary data about the trucks. //no of trucks, depot_section, capacity\n",
        "5. Assign colors dynamically - one for each truck.\n",
        "6. Define the class Truck.\n",
        "7. Test it!"
      ]
    },
    {
      "cell_type": "code",
      "metadata": {
        "id": "0MOG2uZC6Wn7",
        "colab_type": "code",
        "colab": {}
      },
      "source": [
        "# 1. Extract the tsplib95 file problem\n",
        "problem = tsplib95.load_problem('/content/drive/My Drive/HW Assignments/Sem 2/ADBI/Vrp-All/A/A-n32-k5.vrp')"
      ],
      "execution_count": 0,
      "outputs": []
    },
    {
      "cell_type": "code",
      "metadata": {
        "id": "upgBcnpC7MmP",
        "colab_type": "code",
        "colab": {}
      },
      "source": [
        "# 2. Create a networkx graph out of the problem. //will be plotting this\n",
        "nx_graph = problem.get_graph()\n",
        "edge_list = list(problem.get_edges()) #[(,)]\n",
        "node_positions = problem.node_coords #dict"
      ],
      "execution_count": 0,
      "outputs": []
    },
    {
      "cell_type": "code",
      "metadata": {
        "colab_type": "code",
        "id": "PdI0WiBhVILI",
        "colab": {}
      },
      "source": [
        "#3. Initialize the necessary data\n",
        "#move penalty is the weight of the edge\n",
        "move_penalty = 0\n",
        "# truck goes to a zero demand node\n",
        "zero_demand_penalty = 500\n",
        "# trucks failed to deliver the demand\n",
        "failing_task_penalty = 1000\n",
        "# the list of nodes\n",
        "node_list = list(problem.get_nodes())"
      ],
      "execution_count": 0,
      "outputs": []
    },
    {
      "cell_type": "code",
      "metadata": {
        "id": "uLDeoeOYQTiU",
        "colab_type": "code",
        "colab": {}
      },
      "source": [
        "# 4. Extract the necessary data about the trucks. //no of trucks, depot_section, capacity\n",
        "truck_capacity = problem.capacity\n",
        "# print(truck_capacity)\n",
        "depot_locations = problem.depots\n",
        "# print(depot_locations)\n",
        "problem_split = problem.comment.split(\",\")\n",
        "for comment in problem_split:\n",
        "    if \"No of trucks\" in comment:\n",
        "        number_of_trucks = re.findall(\"\\d+\",comment)[0]\n",
        "# print(number_of_trucks)"
      ],
      "execution_count": 0,
      "outputs": []
    },
    {
      "cell_type": "code",
      "metadata": {
        "id": "DLxNw8SVRbcw",
        "colab_type": "code",
        "colab": {}
      },
      "source": [
        "# 5. Assign colors dynamically - one for each truck. - NOT DONE!\n",
        "# for now we have 27 opitons considering (r,g,b) combinations\n",
        "def assign_colors(number_of_trucks):\n",
        "    truck_colors = dict.fromkeys(range(number_of_trucks))\n",
        "    # color = (0,0,0)\n",
        "    for i in range(number_of_trucks):\n",
        "        # truck_colors[i] = color\n",
        "        # assign with 0.5 increments instead 1\n",
        "\n",
        "assign_colors(number_of_trucks)"
      ],
      "execution_count": 0,
      "outputs": []
    },
    {
      "cell_type": "code",
      "metadata": {
        "id": "ssAADH8Gs3S5",
        "colab_type": "code",
        "colab": {}
      },
      "source": [
        "# 6. Define the movement restriction of the truck.\n",
        "class Truck:\n",
        "    def __init__(self, capacity, id):\n",
        "        self.id = id\n",
        "        self.visit_depo()\n",
        "\n",
        "    def action(self, choice):\n",
        "        # the number of choice of actions are the number of nodes-1\n",
        "        # the choice to be taken depends on the demands - penalty based\n",
        "        # the choice number is the same as the node number\n",
        "        # it is not a choice if the demand is 0 - changing this to penalty\n",
        "        if self.capacity == 0:\n",
        "            self.visit_depo()\n",
        "        self.move(choice)\n",
        "\n",
        "    def move(self, to_node_value=False):\n",
        "        # node_list_copy = copy.deepcopy(node_list)\n",
        "        # select a random node to go to\n",
        "        if not to_node_value:\n",
        "            to_node_value = random.choice(edge_list)\n",
        "        if to_node_value == 1:\n",
        "            self.visit_depo()\n",
        "        self.node = to_node_value\n",
        "\n",
        "    def visit_depo(self):\n",
        "        self.node = 1\n",
        "        self.capacity = capacity"
      ],
      "execution_count": 0,
      "outputs": []
    },
    {
      "cell_type": "code",
      "metadata": {
        "id": "soAI3Tc2TXpe",
        "colab_type": "code",
        "colab": {}
      },
      "source": [
        "# creating the Trucks\n",
        "# for i in range(1, number_of_trucks+1):\n",
        "    "
      ],
      "execution_count": 0,
      "outputs": []
    }
  ]
}